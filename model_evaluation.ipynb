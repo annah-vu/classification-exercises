{
 "cells": [
  {
   "cell_type": "code",
   "execution_count": 17,
   "metadata": {},
   "outputs": [],
   "source": [
    "import numpy as np \n",
    "import pandas as pd"
   ]
  },
  {
   "cell_type": "raw",
   "metadata": {},
   "source": [
    "1.) Create a new file named model_evaluation.py or model_evaluation.ipynb for these exercises."
   ]
  },
  {
   "cell_type": "raw",
   "metadata": {},
   "source": [
    "2.) Given the following confusion matrix, evaluate (by hand) the model's performance.\n",
    "\n",
    "\n",
    "|               | pred dog   | pred cat   |\n",
    "|:------------  |-----------:|-----------:|\n",
    "| actual dog    |         46 |         7  |\n",
    "| actual cat    |         13 |         34 |"
   ]
  },
  {
   "cell_type": "raw",
   "metadata": {},
   "source": [
    "# 2a.) In the context of this problem, what is a false positive?\n",
    "-A false positive would be that we predicted dog, but it was a cat. (saying dog is positive)"
   ]
  },
  {
   "cell_type": "raw",
   "metadata": {},
   "source": [
    "#2b.) In the context of this problem, what is a false negative?\n",
    "- A false negative would be that we predicted cat, but it was a dog. (saying dog is positive)"
   ]
  },
  {
   "cell_type": "code",
   "execution_count": 15,
   "metadata": {},
   "outputs": [
    {
     "name": "stdout",
     "output_type": "stream",
     "text": [
      " the accuracy is 80.0%, precision is 77.97%, and recall is 86.79%\n"
     ]
    }
   ],
   "source": [
    "#2c.) How would you describe this model?\n",
    "tp = 46\n",
    "tn = 34\n",
    "fp = 13\n",
    "fn = 7\n",
    "\n",
    "accuracy = (tp + tn)/(tp+tn+fp+fn)\n",
    "precision = round(tp/(tp+fp),4)\n",
    "recall = round(tp/(tp+fn),4)\n",
    "\n",
    "print(f' the accuracy is {accuracy*100}%, precision is {precision*100}%, and recall is {recall*100}%')\n",
    "#The model is 80% accurate, and since its precision is lower than its recall, it is better at catching when it will be a dog."
   ]
  },
  {
   "cell_type": "raw",
   "metadata": {},
   "source": [
    "You are working as a datascientist working for Codeup Cody Creator (C3 for short), a rubber-duck manufacturing plant.\n",
    "Unfortunately, some of the rubber ducks that are produced will have defects. Your team has built several models that try to predict those defects, and the data from their predictions can be found here."
   ]
  },
  {
   "cell_type": "raw",
   "metadata": {},
   "source": [
    "An internal team wants to investigate the cause of the manufacturing defects. They tell you that they want to identify as many of the ducks that have a defect as possible. Which evaluation metric would be appropriate here? Which model would be the best fit for this use case?"
   ]
  },
  {
   "cell_type": "code",
   "execution_count": 20,
   "metadata": {},
   "outputs": [],
   "source": [
    "#Recall tells us how many defects we were able to correctly predict, so we will test all these models to see which one \n",
    "#has the highest recall rate."
   ]
  },
  {
   "cell_type": "code",
   "execution_count": 21,
   "metadata": {},
   "outputs": [
    {
     "data": {
      "text/html": [
       "<div>\n",
       "<style scoped>\n",
       "    .dataframe tbody tr th:only-of-type {\n",
       "        vertical-align: middle;\n",
       "    }\n",
       "\n",
       "    .dataframe tbody tr th {\n",
       "        vertical-align: top;\n",
       "    }\n",
       "\n",
       "    .dataframe thead th {\n",
       "        text-align: right;\n",
       "    }\n",
       "</style>\n",
       "<table border=\"1\" class=\"dataframe\">\n",
       "  <thead>\n",
       "    <tr style=\"text-align: right;\">\n",
       "      <th></th>\n",
       "      <th>actual</th>\n",
       "      <th>model1</th>\n",
       "      <th>model2</th>\n",
       "      <th>model3</th>\n",
       "    </tr>\n",
       "  </thead>\n",
       "  <tbody>\n",
       "    <tr>\n",
       "      <th>0</th>\n",
       "      <td>No Defect</td>\n",
       "      <td>No Defect</td>\n",
       "      <td>Defect</td>\n",
       "      <td>No Defect</td>\n",
       "    </tr>\n",
       "    <tr>\n",
       "      <th>1</th>\n",
       "      <td>No Defect</td>\n",
       "      <td>No Defect</td>\n",
       "      <td>Defect</td>\n",
       "      <td>Defect</td>\n",
       "    </tr>\n",
       "    <tr>\n",
       "      <th>2</th>\n",
       "      <td>No Defect</td>\n",
       "      <td>No Defect</td>\n",
       "      <td>Defect</td>\n",
       "      <td>No Defect</td>\n",
       "    </tr>\n",
       "    <tr>\n",
       "      <th>3</th>\n",
       "      <td>No Defect</td>\n",
       "      <td>Defect</td>\n",
       "      <td>Defect</td>\n",
       "      <td>Defect</td>\n",
       "    </tr>\n",
       "    <tr>\n",
       "      <th>4</th>\n",
       "      <td>No Defect</td>\n",
       "      <td>No Defect</td>\n",
       "      <td>Defect</td>\n",
       "      <td>No Defect</td>\n",
       "    </tr>\n",
       "  </tbody>\n",
       "</table>\n",
       "</div>"
      ],
      "text/plain": [
       "      actual     model1  model2     model3\n",
       "0  No Defect  No Defect  Defect  No Defect\n",
       "1  No Defect  No Defect  Defect     Defect\n",
       "2  No Defect  No Defect  Defect  No Defect\n",
       "3  No Defect     Defect  Defect     Defect\n",
       "4  No Defect  No Defect  Defect  No Defect"
      ]
     },
     "execution_count": 21,
     "metadata": {},
     "output_type": "execute_result"
    }
   ],
   "source": [
    "c3 = pd.read_csv('c3.csv')\n",
    "c3.head()"
   ]
  },
  {
   "cell_type": "code",
   "execution_count": 22,
   "metadata": {},
   "outputs": [
    {
     "name": "stdout",
     "output_type": "stream",
     "text": [
      "     actual     model1     model2     model3\n",
      "13   Defect  No Defect     Defect     Defect\n",
      "30   Defect     Defect  No Defect     Defect\n",
      "65   Defect     Defect     Defect     Defect\n",
      "70   Defect     Defect     Defect     Defect\n",
      "74   Defect  No Defect  No Defect     Defect\n",
      "87   Defect  No Defect     Defect     Defect\n",
      "118  Defect  No Defect     Defect  No Defect\n",
      "135  Defect     Defect  No Defect     Defect\n",
      "140  Defect  No Defect     Defect     Defect\n",
      "147  Defect     Defect  No Defect     Defect\n",
      "163  Defect     Defect     Defect     Defect\n",
      "171  Defect  No Defect     Defect     Defect\n",
      "176  Defect  No Defect     Defect     Defect\n",
      "186  Defect  No Defect  No Defect  No Defect\n",
      "194  Defect     Defect  No Defect     Defect\n",
      "196  Defect     Defect  No Defect  No Defect\n"
     ]
    },
    {
     "data": {
      "text/plain": [
       "0.5"
      ]
     },
     "execution_count": 22,
     "metadata": {},
     "output_type": "execute_result"
    }
   ],
   "source": [
    "#model 1\n",
    "subset = c3[c3.actual == 'Defect']\n",
    "print(subset)\n",
    "(subset.model1 == subset.actual).mean()\n",
    "#recall rate= 50%"
   ]
  },
  {
   "cell_type": "code",
   "execution_count": 23,
   "metadata": {},
   "outputs": [
    {
     "name": "stdout",
     "output_type": "stream",
     "text": [
      "     actual     model1     model2     model3\n",
      "13   Defect  No Defect     Defect     Defect\n",
      "30   Defect     Defect  No Defect     Defect\n",
      "65   Defect     Defect     Defect     Defect\n",
      "70   Defect     Defect     Defect     Defect\n",
      "74   Defect  No Defect  No Defect     Defect\n",
      "87   Defect  No Defect     Defect     Defect\n",
      "118  Defect  No Defect     Defect  No Defect\n",
      "135  Defect     Defect  No Defect     Defect\n",
      "140  Defect  No Defect     Defect     Defect\n",
      "147  Defect     Defect  No Defect     Defect\n",
      "163  Defect     Defect     Defect     Defect\n",
      "171  Defect  No Defect     Defect     Defect\n",
      "176  Defect  No Defect     Defect     Defect\n",
      "186  Defect  No Defect  No Defect  No Defect\n",
      "194  Defect     Defect  No Defect     Defect\n",
      "196  Defect     Defect  No Defect  No Defect\n"
     ]
    },
    {
     "data": {
      "text/plain": [
       "0.5625"
      ]
     },
     "execution_count": 23,
     "metadata": {},
     "output_type": "execute_result"
    }
   ],
   "source": [
    "#model 2\n",
    "subset = c3[c3.actual == 'Defect']\n",
    "print(subset)\n",
    "(subset.model2 == subset.actual).mean()\n",
    "#recall rate= 56.25%"
   ]
  },
  {
   "cell_type": "code",
   "execution_count": 24,
   "metadata": {},
   "outputs": [
    {
     "name": "stdout",
     "output_type": "stream",
     "text": [
      "     actual     model1     model2     model3\n",
      "13   Defect  No Defect     Defect     Defect\n",
      "30   Defect     Defect  No Defect     Defect\n",
      "65   Defect     Defect     Defect     Defect\n",
      "70   Defect     Defect     Defect     Defect\n",
      "74   Defect  No Defect  No Defect     Defect\n",
      "87   Defect  No Defect     Defect     Defect\n",
      "118  Defect  No Defect     Defect  No Defect\n",
      "135  Defect     Defect  No Defect     Defect\n",
      "140  Defect  No Defect     Defect     Defect\n",
      "147  Defect     Defect  No Defect     Defect\n",
      "163  Defect     Defect     Defect     Defect\n",
      "171  Defect  No Defect     Defect     Defect\n",
      "176  Defect  No Defect     Defect     Defect\n",
      "186  Defect  No Defect  No Defect  No Defect\n",
      "194  Defect     Defect  No Defect     Defect\n",
      "196  Defect     Defect  No Defect  No Defect\n"
     ]
    },
    {
     "data": {
      "text/plain": [
       "0.8125"
      ]
     },
     "execution_count": 24,
     "metadata": {},
     "output_type": "execute_result"
    }
   ],
   "source": [
    "#model 3\n",
    "subset = c3[c3.actual == 'Defect']\n",
    "print(subset)\n",
    "(subset.model3 == subset.actual).mean()\n",
    "#recall rate= 81.25%"
   ]
  },
  {
   "cell_type": "code",
   "execution_count": null,
   "metadata": {},
   "outputs": [],
   "source": [
    "#Model 3 is the best at predicting defects, and being correct. We should use this one."
   ]
  },
  {
   "cell_type": "raw",
   "metadata": {},
   "source": [
    "Recently several stories in the local news have come out highlighting customers who received a rubber duck with a defect, and portraying C3 in a bad light. The PR team has decided to launch a program that gives customers with a defective duck a vacation to Hawaii. They need you to predict which ducks will have defects, but tell you the really don't want to accidentally give out a vacation package when the duck really doesn't have a defect. Which evaluation metric would be appropriate here? Which model would be the best fit for this use case?"
   ]
  },
  {
   "cell_type": "code",
   "execution_count": 25,
   "metadata": {},
   "outputs": [],
   "source": [
    "#We want to find out which model has the best precision rate, because precision tells us how good/accurate\n",
    "#our defect predictions are"
   ]
  },
  {
   "cell_type": "code",
   "execution_count": 29,
   "metadata": {},
   "outputs": [
    {
     "name": "stdout",
     "output_type": "stream",
     "text": [
      "        actual  model1     model2     model3\n",
      "3    No Defect  Defect     Defect     Defect\n",
      "30      Defect  Defect  No Defect     Defect\n",
      "62   No Defect  Defect  No Defect  No Defect\n",
      "65      Defect  Defect     Defect     Defect\n",
      "70      Defect  Defect     Defect     Defect\n",
      "135     Defect  Defect  No Defect     Defect\n",
      "147     Defect  Defect  No Defect     Defect\n",
      "163     Defect  Defect     Defect     Defect\n",
      "194     Defect  Defect  No Defect     Defect\n",
      "196     Defect  Defect  No Defect  No Defect\n"
     ]
    },
    {
     "data": {
      "text/plain": [
       "0.8"
      ]
     },
     "execution_count": 29,
     "metadata": {},
     "output_type": "execute_result"
    }
   ],
   "source": [
    "#model 1\n",
    "subset = c3[c3.model1 == 'Defect']\n",
    "print(subset)\n",
    "(subset.model1 == subset.actual).mean()\n",
    "#model 1 has an 80% precision rate"
   ]
  },
  {
   "cell_type": "code",
   "execution_count": 30,
   "metadata": {},
   "outputs": [
    {
     "name": "stdout",
     "output_type": "stream",
     "text": [
      "        actual     model1  model2     model3\n",
      "0    No Defect  No Defect  Defect  No Defect\n",
      "1    No Defect  No Defect  Defect     Defect\n",
      "2    No Defect  No Defect  Defect  No Defect\n",
      "3    No Defect     Defect  Defect     Defect\n",
      "4    No Defect  No Defect  Defect  No Defect\n",
      "..         ...        ...     ...        ...\n",
      "183  No Defect  No Defect  Defect  No Defect\n",
      "185  No Defect  No Defect  Defect  No Defect\n",
      "193  No Defect  No Defect  Defect     Defect\n",
      "195  No Defect  No Defect  Defect     Defect\n",
      "198  No Defect  No Defect  Defect     Defect\n",
      "\n",
      "[90 rows x 4 columns]\n"
     ]
    },
    {
     "data": {
      "text/plain": [
       "0.1"
      ]
     },
     "execution_count": 30,
     "metadata": {},
     "output_type": "execute_result"
    }
   ],
   "source": [
    "#model 2\n",
    "subset = c3[c3.model2 == 'Defect']\n",
    "print(subset)\n",
    "(subset.model2 == subset.actual).mean()\n",
    "#model 1 has an 10% precision rate"
   ]
  },
  {
   "cell_type": "code",
   "execution_count": 32,
   "metadata": {},
   "outputs": [
    {
     "name": "stdout",
     "output_type": "stream",
     "text": [
      "        actual     model1     model2  model3\n",
      "1    No Defect  No Defect     Defect  Defect\n",
      "3    No Defect     Defect     Defect  Defect\n",
      "5    No Defect  No Defect  No Defect  Defect\n",
      "9    No Defect  No Defect  No Defect  Defect\n",
      "13      Defect  No Defect     Defect  Defect\n",
      "..         ...        ...        ...     ...\n",
      "193  No Defect  No Defect     Defect  Defect\n",
      "194     Defect     Defect  No Defect  Defect\n",
      "195  No Defect  No Defect     Defect  Defect\n",
      "198  No Defect  No Defect     Defect  Defect\n",
      "199  No Defect  No Defect  No Defect  Defect\n",
      "\n",
      "[99 rows x 4 columns]\n"
     ]
    },
    {
     "data": {
      "text/plain": [
       "0.13131313131313133"
      ]
     },
     "execution_count": 32,
     "metadata": {},
     "output_type": "execute_result"
    }
   ],
   "source": [
    "#model 3\n",
    "subset = c3[c3.model3 == 'Defect']\n",
    "print(subset)\n",
    "(subset.model3 == subset.actual).mean()\n",
    "#model 1 has an 13.1% precision rate"
   ]
  },
  {
   "cell_type": "code",
   "execution_count": null,
   "metadata": {},
   "outputs": [],
   "source": [
    "#We should use model 1 for this case."
   ]
  },
  {
   "cell_type": "raw",
   "metadata": {},
   "source": [
    "4.) You are working as a data scientist for Gives You Paws ™, a subscription based service that shows you cute pictures of dogs or cats (or both for an additional fee).\n",
    "At Gives You Paws, anyone can upload pictures of their cats or dogs. The photos are then put through a two step process. First an automated algorithm tags pictures as either a cat or a dog (Phase I). Next, the photos that have been initially identified are put through another round of review, possibly with some human oversight, before being presented to the users (Phase II).\n",
    "Several models have already been developed with the data, and you can find their results here."
   ]
  },
  {
   "cell_type": "code",
   "execution_count": 34,
   "metadata": {},
   "outputs": [
    {
     "data": {
      "text/html": [
       "<div>\n",
       "<style scoped>\n",
       "    .dataframe tbody tr th:only-of-type {\n",
       "        vertical-align: middle;\n",
       "    }\n",
       "\n",
       "    .dataframe tbody tr th {\n",
       "        vertical-align: top;\n",
       "    }\n",
       "\n",
       "    .dataframe thead th {\n",
       "        text-align: right;\n",
       "    }\n",
       "</style>\n",
       "<table border=\"1\" class=\"dataframe\">\n",
       "  <thead>\n",
       "    <tr style=\"text-align: right;\">\n",
       "      <th></th>\n",
       "      <th>actual</th>\n",
       "      <th>model1</th>\n",
       "      <th>model2</th>\n",
       "      <th>model3</th>\n",
       "      <th>model4</th>\n",
       "    </tr>\n",
       "  </thead>\n",
       "  <tbody>\n",
       "    <tr>\n",
       "      <th>0</th>\n",
       "      <td>cat</td>\n",
       "      <td>cat</td>\n",
       "      <td>dog</td>\n",
       "      <td>cat</td>\n",
       "      <td>dog</td>\n",
       "    </tr>\n",
       "    <tr>\n",
       "      <th>1</th>\n",
       "      <td>dog</td>\n",
       "      <td>dog</td>\n",
       "      <td>cat</td>\n",
       "      <td>cat</td>\n",
       "      <td>dog</td>\n",
       "    </tr>\n",
       "    <tr>\n",
       "      <th>2</th>\n",
       "      <td>dog</td>\n",
       "      <td>cat</td>\n",
       "      <td>cat</td>\n",
       "      <td>cat</td>\n",
       "      <td>dog</td>\n",
       "    </tr>\n",
       "    <tr>\n",
       "      <th>3</th>\n",
       "      <td>dog</td>\n",
       "      <td>dog</td>\n",
       "      <td>dog</td>\n",
       "      <td>cat</td>\n",
       "      <td>dog</td>\n",
       "    </tr>\n",
       "    <tr>\n",
       "      <th>4</th>\n",
       "      <td>cat</td>\n",
       "      <td>cat</td>\n",
       "      <td>cat</td>\n",
       "      <td>dog</td>\n",
       "      <td>dog</td>\n",
       "    </tr>\n",
       "  </tbody>\n",
       "</table>\n",
       "</div>"
      ],
      "text/plain": [
       "  actual model1 model2 model3 model4\n",
       "0    cat    cat    dog    cat    dog\n",
       "1    dog    dog    cat    cat    dog\n",
       "2    dog    cat    cat    cat    dog\n",
       "3    dog    dog    dog    cat    dog\n",
       "4    cat    cat    cat    dog    dog"
      ]
     },
     "execution_count": 34,
     "metadata": {},
     "output_type": "execute_result"
    }
   ],
   "source": [
    "paws = pd.read_csv('gives_you_paws.csv')\n",
    "paws.head()"
   ]
  },
  {
   "cell_type": "raw",
   "metadata": {},
   "source": [
    "4a.) In terms of accuracy, how do the various models compare to the baseline model? Are any of the models better than the baseline?"
   ]
  },
  {
   "cell_type": "code",
   "execution_count": 35,
   "metadata": {},
   "outputs": [],
   "source": [
    "paws['baseline'] = 'dog'"
   ]
  },
  {
   "cell_type": "code",
   "execution_count": 36,
   "metadata": {},
   "outputs": [
    {
     "data": {
      "text/html": [
       "<div>\n",
       "<style scoped>\n",
       "    .dataframe tbody tr th:only-of-type {\n",
       "        vertical-align: middle;\n",
       "    }\n",
       "\n",
       "    .dataframe tbody tr th {\n",
       "        vertical-align: top;\n",
       "    }\n",
       "\n",
       "    .dataframe thead th {\n",
       "        text-align: right;\n",
       "    }\n",
       "</style>\n",
       "<table border=\"1\" class=\"dataframe\">\n",
       "  <thead>\n",
       "    <tr style=\"text-align: right;\">\n",
       "      <th></th>\n",
       "      <th>actual</th>\n",
       "      <th>model1</th>\n",
       "      <th>model2</th>\n",
       "      <th>model3</th>\n",
       "      <th>model4</th>\n",
       "      <th>baseline</th>\n",
       "    </tr>\n",
       "  </thead>\n",
       "  <tbody>\n",
       "    <tr>\n",
       "      <th>0</th>\n",
       "      <td>cat</td>\n",
       "      <td>cat</td>\n",
       "      <td>dog</td>\n",
       "      <td>cat</td>\n",
       "      <td>dog</td>\n",
       "      <td>dog</td>\n",
       "    </tr>\n",
       "    <tr>\n",
       "      <th>1</th>\n",
       "      <td>dog</td>\n",
       "      <td>dog</td>\n",
       "      <td>cat</td>\n",
       "      <td>cat</td>\n",
       "      <td>dog</td>\n",
       "      <td>dog</td>\n",
       "    </tr>\n",
       "    <tr>\n",
       "      <th>2</th>\n",
       "      <td>dog</td>\n",
       "      <td>cat</td>\n",
       "      <td>cat</td>\n",
       "      <td>cat</td>\n",
       "      <td>dog</td>\n",
       "      <td>dog</td>\n",
       "    </tr>\n",
       "    <tr>\n",
       "      <th>3</th>\n",
       "      <td>dog</td>\n",
       "      <td>dog</td>\n",
       "      <td>dog</td>\n",
       "      <td>cat</td>\n",
       "      <td>dog</td>\n",
       "      <td>dog</td>\n",
       "    </tr>\n",
       "    <tr>\n",
       "      <th>4</th>\n",
       "      <td>cat</td>\n",
       "      <td>cat</td>\n",
       "      <td>cat</td>\n",
       "      <td>dog</td>\n",
       "      <td>dog</td>\n",
       "      <td>dog</td>\n",
       "    </tr>\n",
       "  </tbody>\n",
       "</table>\n",
       "</div>"
      ],
      "text/plain": [
       "  actual model1 model2 model3 model4 baseline\n",
       "0    cat    cat    dog    cat    dog      dog\n",
       "1    dog    dog    cat    cat    dog      dog\n",
       "2    dog    cat    cat    cat    dog      dog\n",
       "3    dog    dog    dog    cat    dog      dog\n",
       "4    cat    cat    cat    dog    dog      dog"
      ]
     },
     "execution_count": 36,
     "metadata": {},
     "output_type": "execute_result"
    }
   ],
   "source": [
    "paws.head()"
   ]
  },
  {
   "cell_type": "code",
   "execution_count": 46,
   "metadata": {},
   "outputs": [
    {
     "name": "stdout",
     "output_type": "stream",
     "text": [
      "\n",
      "positive: dog\n",
      "\n",
      "         | accuracy | recall | precision\n",
      "         | -------- | ------ | ---------         \n",
      "   model1|    80.7% |  80.3% |     89.0%\n",
      "baseline |    65.1% | 100.0% |     65.1%\n"
     ]
    }
   ],
   "source": [
    "positive = 'dog'\n",
    "\n",
    "# accuracy -- overall hit rate\n",
    "model_accuracy = (paws.model1 == paws.actual).mean()\n",
    "baseline_accuracy = (paws.baseline == paws.actual).mean()\n",
    "\n",
    "# precision -- how good are our positive predictions?\n",
    "# precision -- model performance | predicted positive\n",
    "subset = paws[paws.model1 == positive]\n",
    "model_precision = (subset.model1 == subset.actual).mean()\n",
    "subset = paws[paws.baseline == positive]\n",
    "baseline_precision = (subset.baseline == subset.actual).mean()\n",
    "\n",
    "# recall -- how good are we at detecting actual positives?\n",
    "# recall -- model performance | actual positive\n",
    "subset = paws[paws.actual == positive]\n",
    "model_recall = (subset.model1 == subset.actual).mean()\n",
    "baseline_recall = (subset.baseline == subset.actual).mean()\n",
    "\n",
    "\n",
    "print(f'''\n",
    "positive: {positive}\n",
    "\n",
    "         | accuracy | recall | precision\n",
    "         | -------- | ------ | ---------         \n",
    "   model1| {model_accuracy:8.1%} | {model_recall:6.1%} | {model_precision:9.1%}\n",
    "baseline | {baseline_accuracy:8.1%} | {baseline_recall:6.1%} | {baseline_precision:9.1%}''')"
   ]
  },
  {
   "cell_type": "code",
   "execution_count": 45,
   "metadata": {},
   "outputs": [
    {
     "name": "stdout",
     "output_type": "stream",
     "text": [
      "\n",
      "positive: dog\n",
      "\n",
      "         | accuracy | recall | precision\n",
      "         | -------- | ------ | ---------         \n",
      "   model2|    63.0% |  49.1% |     89.3%\n",
      "baseline |    65.1% | 100.0% |     65.1%\n"
     ]
    }
   ],
   "source": [
    "positive = 'dog'\n",
    "\n",
    "# accuracy -- overall hit rate\n",
    "model_accuracy = (paws.model2 == paws.actual).mean()\n",
    "baseline_accuracy = (paws.baseline == paws.actual).mean()\n",
    "\n",
    "# precision -- how good are our positive predictions?\n",
    "# precision -- model performance | predicted positive\n",
    "subset = paws[paws.model2 == positive]\n",
    "model_precision = (subset.model2 == subset.actual).mean()\n",
    "subset = paws[paws.baseline == positive]\n",
    "baseline_precision = (subset.baseline == subset.actual).mean()\n",
    "\n",
    "# recall -- how good are we at detecting actual positives?\n",
    "# recall -- model performance | actual positive\n",
    "subset = paws[paws.actual == positive]\n",
    "model_recall = (subset.model2 == subset.actual).mean()\n",
    "baseline_recall = (subset.baseline == subset.actual).mean()\n",
    "\n",
    "\n",
    "print(f'''\n",
    "positive: {positive}\n",
    "\n",
    "         | accuracy | recall | precision\n",
    "         | -------- | ------ | ---------         \n",
    "   model2| {model_accuracy:8.1%} | {model_recall:6.1%} | {model_precision:9.1%}\n",
    "baseline | {baseline_accuracy:8.1%} | {baseline_recall:6.1%} | {baseline_precision:9.1%}''')"
   ]
  },
  {
   "cell_type": "code",
   "execution_count": 47,
   "metadata": {},
   "outputs": [
    {
     "name": "stdout",
     "output_type": "stream",
     "text": [
      "\n",
      "positive: dog\n",
      "\n",
      "         | accuracy | recall | precision\n",
      "         | -------- | ------ | ---------         \n",
      "   model3|    51.0% |  50.9% |     66.0%\n",
      "baseline |    65.1% | 100.0% |     65.1%\n"
     ]
    }
   ],
   "source": [
    "positive = 'dog'\n",
    "\n",
    "# accuracy -- overall hit rate\n",
    "model_accuracy = (paws.model3 == paws.actual).mean()\n",
    "baseline_accuracy = (paws.baseline == paws.actual).mean()\n",
    "\n",
    "# precision -- how good are our positive predictions?\n",
    "# precision -- model performance | predicted positive\n",
    "subset = paws[paws.model3 == positive]\n",
    "model_precision = (subset.model3 == subset.actual).mean()\n",
    "subset = paws[paws.baseline == positive]\n",
    "baseline_precision = (subset.baseline == subset.actual).mean()\n",
    "\n",
    "# recall -- how good are we at detecting actual positives?\n",
    "# recall -- model performance | actual positive\n",
    "subset = paws[paws.actual == positive]\n",
    "model_recall = (subset.model3 == subset.actual).mean()\n",
    "baseline_recall = (subset.baseline == subset.actual).mean()\n",
    "\n",
    "\n",
    "print(f'''\n",
    "positive: {positive}\n",
    "\n",
    "         | accuracy | recall | precision\n",
    "         | -------- | ------ | ---------         \n",
    "   model3| {model_accuracy:8.1%} | {model_recall:6.1%} | {model_precision:9.1%}\n",
    "baseline | {baseline_accuracy:8.1%} | {baseline_recall:6.1%} | {baseline_precision:9.1%}''')"
   ]
  },
  {
   "cell_type": "code",
   "execution_count": 48,
   "metadata": {},
   "outputs": [
    {
     "name": "stdout",
     "output_type": "stream",
     "text": [
      "\n",
      "positive: dog\n",
      "\n",
      "         | accuracy | recall | precision\n",
      "         | -------- | ------ | ---------         \n",
      "   model4|    74.3% |  95.6% |     73.1%\n",
      "baseline |    65.1% | 100.0% |     65.1%\n"
     ]
    }
   ],
   "source": [
    "positive = 'dog'\n",
    "\n",
    "# accuracy -- overall hit rate\n",
    "model_accuracy = (paws.model4 == paws.actual).mean()\n",
    "baseline_accuracy = (paws.baseline == paws.actual).mean()\n",
    "\n",
    "# precision -- how good are our positive predictions?\n",
    "# precision -- model performance | predicted positive\n",
    "subset = paws[paws.model4 == positive]\n",
    "model_precision = (subset.model4 == subset.actual).mean()\n",
    "subset = paws[paws.baseline == positive]\n",
    "baseline_precision = (subset.baseline == subset.actual).mean()\n",
    "\n",
    "# recall -- how good are we at detecting actual positives?\n",
    "# recall -- model performance | actual positive\n",
    "subset = paws[paws.actual == positive]\n",
    "model_recall = (subset.model4 == subset.actual).mean()\n",
    "baseline_recall = (subset.baseline == subset.actual).mean()\n",
    "\n",
    "\n",
    "print(f'''\n",
    "positive: {positive}\n",
    "\n",
    "         | accuracy | recall | precision\n",
    "         | -------- | ------ | ---------         \n",
    "   model4| {model_accuracy:8.1%} | {model_recall:6.1%} | {model_precision:9.1%}\n",
    "baseline | {baseline_accuracy:8.1%} | {baseline_recall:6.1%} | {baseline_precision:9.1%}''')"
   ]
  },
  {
   "cell_type": "code",
   "execution_count": 49,
   "metadata": {},
   "outputs": [],
   "source": [
    "#model 1 and model 4 seem to be better than the baseline."
   ]
  },
  {
   "cell_type": "raw",
   "metadata": {},
   "source": [
    "Suppose you are working on a team that solely deals with dog pictures. Which of these models would you recomend for Phase I? For Phase II?"
   ]
  },
  {
   "cell_type": "code",
   "execution_count": 53,
   "metadata": {},
   "outputs": [
    {
     "name": "stdout",
     "output_type": "stream",
     "text": [
      "accuracy of model 1 is 80.74%\n"
     ]
    }
   ],
   "source": [
    "#for phase 1 we want a high accuracy.\n",
    "print(f'accuracy of model 1 is {(paws.actual == paws.model1).mean()*100}%')"
   ]
  },
  {
   "cell_type": "code",
   "execution_count": 54,
   "metadata": {},
   "outputs": [
    {
     "name": "stdout",
     "output_type": "stream",
     "text": [
      "accuracy of model 2 is 63.04%\n"
     ]
    }
   ],
   "source": [
    "print(f'accuracy of model 2 is {(paws.actual == paws.model2).mean()*100}%')"
   ]
  },
  {
   "cell_type": "code",
   "execution_count": 55,
   "metadata": {},
   "outputs": [
    {
     "name": "stdout",
     "output_type": "stream",
     "text": [
      "accuracy of model 3 is 50.96000000000001%\n"
     ]
    }
   ],
   "source": [
    "print(f'accuracy of model 3 is {(paws.actual == paws.model3).mean()*100}%')"
   ]
  },
  {
   "cell_type": "code",
   "execution_count": 79,
   "metadata": {},
   "outputs": [
    {
     "name": "stdout",
     "output_type": "stream",
     "text": [
      "accuracy of model 4 is 74.26%\n"
     ]
    }
   ],
   "source": [
    "print(f'accuracy of model 4 is {(paws.actual == paws.model4).mean()*100}%')"
   ]
  },
  {
   "cell_type": "code",
   "execution_count": 56,
   "metadata": {},
   "outputs": [],
   "source": [
    "#I would recommend model 1 for phase 1."
   ]
  },
  {
   "cell_type": "code",
   "execution_count": 57,
   "metadata": {},
   "outputs": [],
   "source": [
    "#for phase 2 we want a high recall."
   ]
  },
  {
   "cell_type": "code",
   "execution_count": 73,
   "metadata": {},
   "outputs": [
    {
     "name": "stdout",
     "output_type": "stream",
     "text": [
      "     actual model1 model2 model3 model4 baseline\n",
      "1       dog    dog    cat    cat    dog      dog\n",
      "2       dog    cat    cat    cat    dog      dog\n",
      "3       dog    dog    dog    cat    dog      dog\n",
      "5       dog    dog    dog    dog    dog      dog\n",
      "8       dog    dog    cat    dog    dog      dog\n",
      "...     ...    ...    ...    ...    ...      ...\n",
      "4993    dog    dog    cat    dog    dog      dog\n",
      "4995    dog    dog    dog    dog    dog      dog\n",
      "4996    dog    dog    cat    cat    dog      dog\n",
      "4997    dog    cat    cat    dog    dog      dog\n",
      "4999    dog    dog    dog    dog    dog      dog\n",
      "\n",
      "[3254 rows x 6 columns]\n",
      "model 1 has a recall rate of 80.33%\n"
     ]
    }
   ],
   "source": [
    "subset = paws[paws.actual == 'dog']\n",
    "print(subset)\n",
    "(subset.model1 == subset.actual).mean()\n",
    "print(f'model 1 has a recall rate of {round((subset.model1 == subset.actual).mean(),4)*100}%')"
   ]
  },
  {
   "cell_type": "code",
   "execution_count": 75,
   "metadata": {},
   "outputs": [
    {
     "name": "stdout",
     "output_type": "stream",
     "text": [
      "     actual model1 model2 model3 model4 baseline\n",
      "1       dog    dog    cat    cat    dog      dog\n",
      "2       dog    cat    cat    cat    dog      dog\n",
      "3       dog    dog    dog    cat    dog      dog\n",
      "5       dog    dog    dog    dog    dog      dog\n",
      "8       dog    dog    cat    dog    dog      dog\n",
      "...     ...    ...    ...    ...    ...      ...\n",
      "4993    dog    dog    cat    dog    dog      dog\n",
      "4995    dog    dog    dog    dog    dog      dog\n",
      "4996    dog    dog    cat    cat    dog      dog\n",
      "4997    dog    cat    cat    dog    dog      dog\n",
      "4999    dog    dog    dog    dog    dog      dog\n",
      "\n",
      "[3254 rows x 6 columns]\n",
      "model 2 has a recall rate of 49.08%\n"
     ]
    }
   ],
   "source": [
    "subset = paws[paws.actual == 'dog']\n",
    "print(subset)\n",
    "(subset.model2 == subset.actual).mean()\n",
    "print(f'model 2 has a recall rate of {round((subset.model2 == subset.actual).mean(),4)*100}%')"
   ]
  },
  {
   "cell_type": "code",
   "execution_count": 76,
   "metadata": {},
   "outputs": [
    {
     "name": "stdout",
     "output_type": "stream",
     "text": [
      "     actual model1 model2 model3 model4 baseline\n",
      "1       dog    dog    cat    cat    dog      dog\n",
      "2       dog    cat    cat    cat    dog      dog\n",
      "3       dog    dog    dog    cat    dog      dog\n",
      "5       dog    dog    dog    dog    dog      dog\n",
      "8       dog    dog    cat    dog    dog      dog\n",
      "...     ...    ...    ...    ...    ...      ...\n",
      "4993    dog    dog    cat    dog    dog      dog\n",
      "4995    dog    dog    dog    dog    dog      dog\n",
      "4996    dog    dog    cat    cat    dog      dog\n",
      "4997    dog    cat    cat    dog    dog      dog\n",
      "4999    dog    dog    dog    dog    dog      dog\n",
      "\n",
      "[3254 rows x 6 columns]\n",
      "model 3 has a recall rate of 50.86000000000001%\n"
     ]
    }
   ],
   "source": [
    "subset = paws[paws.actual == 'dog']\n",
    "print(subset)\n",
    "(subset.model3 == subset.actual).mean()\n",
    "print(f'model 3 has a recall rate of {round((subset.model3 == subset.actual).mean(),4)*100}%')"
   ]
  },
  {
   "cell_type": "code",
   "execution_count": 77,
   "metadata": {},
   "outputs": [
    {
     "name": "stdout",
     "output_type": "stream",
     "text": [
      "     actual model1 model2 model3 model4 baseline\n",
      "1       dog    dog    cat    cat    dog      dog\n",
      "2       dog    cat    cat    cat    dog      dog\n",
      "3       dog    dog    dog    cat    dog      dog\n",
      "5       dog    dog    dog    dog    dog      dog\n",
      "8       dog    dog    cat    dog    dog      dog\n",
      "...     ...    ...    ...    ...    ...      ...\n",
      "4993    dog    dog    cat    dog    dog      dog\n",
      "4995    dog    dog    dog    dog    dog      dog\n",
      "4996    dog    dog    cat    cat    dog      dog\n",
      "4997    dog    cat    cat    dog    dog      dog\n",
      "4999    dog    dog    dog    dog    dog      dog\n",
      "\n",
      "[3254 rows x 6 columns]\n",
      "model 4 has a recall rate of 95.57%\n"
     ]
    }
   ],
   "source": [
    "subset = paws[paws.actual == 'dog']\n",
    "print(subset)\n",
    "(subset.model4 == subset.actual).mean()\n",
    "print(f'model 4 has a recall rate of {round((subset.model4 == subset.actual).mean(),4)*100}%')"
   ]
  },
  {
   "cell_type": "code",
   "execution_count": null,
   "metadata": {},
   "outputs": [],
   "source": [
    "#I would pick model 4 for phase 2, it has the highest recall rate. "
   ]
  },
  {
   "cell_type": "raw",
   "metadata": {},
   "source": [
    "Suppose you are working on a team that solely deals with cat pictures. Which of these models would you recomend for Phase I? For Phase II?"
   ]
  },
  {
   "cell_type": "code",
   "execution_count": 78,
   "metadata": {},
   "outputs": [],
   "source": [
    "#Since phase 1 is still dealing with both cats and dogs initially, we would still want model 1 for its high accuracy."
   ]
  },
  {
   "cell_type": "code",
   "execution_count": 80,
   "metadata": {},
   "outputs": [
    {
     "name": "stdout",
     "output_type": "stream",
     "text": [
      "accuracy of model 1 is 80.74%\n",
      "accuracy of model 2 is 63.04%\n",
      "accuracy of model 3 is 50.96000000000001%\n",
      "accuracy of model 4 is 74.26%\n"
     ]
    }
   ],
   "source": [
    "print(f'accuracy of model 1 is {(paws.actual == paws.model1).mean()*100}%')\n",
    "print(f'accuracy of model 2 is {(paws.actual == paws.model2).mean()*100}%')\n",
    "print(f'accuracy of model 3 is {(paws.actual == paws.model3).mean()*100}%')\n",
    "print(f'accuracy of model 4 is {(paws.actual == paws.model4).mean()*100}%')"
   ]
  },
  {
   "cell_type": "code",
   "execution_count": 81,
   "metadata": {},
   "outputs": [
    {
     "name": "stdout",
     "output_type": "stream",
     "text": [
      "     actual model1 model2 model3 model4 baseline\n",
      "0       cat    cat    dog    cat    dog      dog\n",
      "4       cat    cat    cat    dog    dog      dog\n",
      "6       cat    cat    cat    cat    dog      dog\n",
      "7       cat    dog    cat    cat    dog      dog\n",
      "11      cat    cat    dog    cat    cat      dog\n",
      "...     ...    ...    ...    ...    ...      ...\n",
      "4987    cat    dog    cat    dog    dog      dog\n",
      "4989    cat    cat    cat    dog    cat      dog\n",
      "4991    cat    cat    cat    cat    dog      dog\n",
      "4994    cat    cat    cat    dog    dog      dog\n",
      "4998    cat    cat    cat    cat    dog      dog\n",
      "\n",
      "[1746 rows x 6 columns]\n",
      "model 1 has a recall rate of 81.5%\n"
     ]
    }
   ],
   "source": [
    "# for phase 2 we are going to find the highest recall value for cats.\n",
    "subset = paws[paws.actual == 'cat']\n",
    "print(subset)\n",
    "(subset.model1 == subset.actual).mean()\n",
    "print(f'model 1 has a recall rate of {round((subset.model1 == subset.actual).mean(),4)*100}%')"
   ]
  },
  {
   "cell_type": "code",
   "execution_count": 84,
   "metadata": {},
   "outputs": [
    {
     "name": "stdout",
     "output_type": "stream",
     "text": [
      "     actual model1 model2 model3 model4 baseline\n",
      "0       cat    cat    dog    cat    dog      dog\n",
      "4       cat    cat    cat    dog    dog      dog\n",
      "6       cat    cat    cat    cat    dog      dog\n",
      "7       cat    dog    cat    cat    dog      dog\n",
      "11      cat    cat    dog    cat    cat      dog\n",
      "...     ...    ...    ...    ...    ...      ...\n",
      "4987    cat    dog    cat    dog    dog      dog\n",
      "4989    cat    cat    cat    dog    cat      dog\n",
      "4991    cat    cat    cat    cat    dog      dog\n",
      "4994    cat    cat    cat    dog    dog      dog\n",
      "4998    cat    cat    cat    cat    dog      dog\n",
      "\n",
      "[1746 rows x 6 columns]\n",
      "model 2 has a recall rate of 89.1%\n"
     ]
    }
   ],
   "source": [
    "subset = paws[paws.actual == 'cat']\n",
    "print(subset)\n",
    "(subset.model1 == subset.actual).mean()\n",
    "print(f'model 2 has a recall rate of {round((subset.model2 == subset.actual).mean(),3)*100}%')"
   ]
  },
  {
   "cell_type": "code",
   "execution_count": 85,
   "metadata": {},
   "outputs": [
    {
     "name": "stdout",
     "output_type": "stream",
     "text": [
      "     actual model1 model2 model3 model4 baseline\n",
      "0       cat    cat    dog    cat    dog      dog\n",
      "4       cat    cat    cat    dog    dog      dog\n",
      "6       cat    cat    cat    cat    dog      dog\n",
      "7       cat    dog    cat    cat    dog      dog\n",
      "11      cat    cat    dog    cat    cat      dog\n",
      "...     ...    ...    ...    ...    ...      ...\n",
      "4987    cat    dog    cat    dog    dog      dog\n",
      "4989    cat    cat    cat    dog    cat      dog\n",
      "4991    cat    cat    cat    cat    dog      dog\n",
      "4994    cat    cat    cat    dog    dog      dog\n",
      "4998    cat    cat    cat    cat    dog      dog\n",
      "\n",
      "[1746 rows x 6 columns]\n",
      "model 3 has a recall rate of 51.1%\n"
     ]
    }
   ],
   "source": [
    "subset = paws[paws.actual == 'cat']\n",
    "print(subset)\n",
    "(subset.model1 == subset.actual).mean()\n",
    "print(f'model 3 has a recall rate of {round((subset.model3 == subset.actual).mean(),3)*100}%')"
   ]
  },
  {
   "cell_type": "code",
   "execution_count": 86,
   "metadata": {},
   "outputs": [
    {
     "name": "stdout",
     "output_type": "stream",
     "text": [
      "     actual model1 model2 model3 model4 baseline\n",
      "0       cat    cat    dog    cat    dog      dog\n",
      "4       cat    cat    cat    dog    dog      dog\n",
      "6       cat    cat    cat    cat    dog      dog\n",
      "7       cat    dog    cat    cat    dog      dog\n",
      "11      cat    cat    dog    cat    cat      dog\n",
      "...     ...    ...    ...    ...    ...      ...\n",
      "4987    cat    dog    cat    dog    dog      dog\n",
      "4989    cat    cat    cat    dog    cat      dog\n",
      "4991    cat    cat    cat    cat    dog      dog\n",
      "4994    cat    cat    cat    dog    dog      dog\n",
      "4998    cat    cat    cat    cat    dog      dog\n",
      "\n",
      "[1746 rows x 6 columns]\n",
      "model 4 has a recall rate of 34.5%\n"
     ]
    }
   ],
   "source": [
    "subset = paws[paws.actual == 'cat']\n",
    "print(subset)\n",
    "(subset.model1 == subset.actual).mean()\n",
    "print(f'model 4 has a recall rate of {round((subset.model4 == subset.actual).mean(),3)*100}%')"
   ]
  },
  {
   "cell_type": "code",
   "execution_count": 87,
   "metadata": {},
   "outputs": [],
   "source": [
    "#I would pick model 2 for phase 2 if I was working solely with cats."
   ]
  },
  {
   "cell_type": "raw",
   "metadata": {},
   "source": [
    "Follow the links below to read the documentation about each function, then apply those functions to the data from the previous problem."
   ]
  },
  {
   "cell_type": "code",
   "execution_count": 93,
   "metadata": {},
   "outputs": [],
   "source": [
    "from sklearn.metrics import accuracy_score\n",
    "#computes subset accuracy: the set of predictions for a sample must match exactly the labels in actual."
   ]
  },
  {
   "cell_type": "code",
   "execution_count": 97,
   "metadata": {},
   "outputs": [
    {
     "data": {
      "text/plain": [
       "0.6508"
      ]
     },
     "execution_count": 97,
     "metadata": {},
     "output_type": "execute_result"
    }
   ],
   "source": [
    "sklearn.metrics.accuracy_score(paws.actual, paws.baseline, normalize=True, sample_weight=None)"
   ]
  },
  {
   "cell_type": "code",
   "execution_count": 100,
   "metadata": {},
   "outputs": [],
   "source": [
    "from sklearn.metrics import precision_score\n",
    "#best value is 1, worst is 0. Shows the ability of the classifier not to label something as positive, that is negative."
   ]
  },
  {
   "cell_type": "code",
   "execution_count": 104,
   "metadata": {},
   "outputs": [
    {
     "name": "stderr",
     "output_type": "stream",
     "text": [
      "/usr/local/anaconda3/lib/python3.8/site-packages/sklearn/metrics/_classification.py:1221: UndefinedMetricWarning: Precision is ill-defined and being set to 0.0 in labels with no predicted samples. Use `zero_division` parameter to control this behavior.\n",
      "  _warn_prf(average, modifier, msg_start, len(result))\n"
     ]
    },
    {
     "data": {
      "text/plain": [
       "0.42354063999999997"
      ]
     },
     "execution_count": 104,
     "metadata": {},
     "output_type": "execute_result"
    }
   ],
   "source": [
    "sklearn.metrics.precision_score(paws.actual, paws.baseline, average='weighted')"
   ]
  },
  {
   "cell_type": "code",
   "execution_count": 106,
   "metadata": {},
   "outputs": [],
   "source": [
    "from sklearn.metrics import recall_score\n",
    "#best value is 1, worst is 0. Ability of classifier to find all of the positive samples"
   ]
  },
  {
   "cell_type": "code",
   "execution_count": 108,
   "metadata": {},
   "outputs": [
    {
     "data": {
      "text/plain": [
       "0.6508"
      ]
     },
     "execution_count": 108,
     "metadata": {},
     "output_type": "execute_result"
    }
   ],
   "source": [
    "sklearn.metrics.recall_score(paws.actual, paws.baseline, average = 'weighted')"
   ]
  },
  {
   "cell_type": "code",
   "execution_count": null,
   "metadata": {},
   "outputs": [],
   "source": []
  }
 ],
 "metadata": {
  "kernelspec": {
   "display_name": "Python 3",
   "language": "python",
   "name": "python3"
  },
  "language_info": {
   "codemirror_mode": {
    "name": "ipython",
    "version": 3
   },
   "file_extension": ".py",
   "mimetype": "text/x-python",
   "name": "python",
   "nbconvert_exporter": "python",
   "pygments_lexer": "ipython3",
   "version": "3.8.5"
  }
 },
 "nbformat": 4,
 "nbformat_minor": 4
}
